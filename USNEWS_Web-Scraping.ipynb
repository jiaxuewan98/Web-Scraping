{
 "cells": [
  {
   "cell_type": "markdown",
   "metadata": {},
   "source": [
    "### BAX 422 Homework 1\n",
    "\n",
    "- Willa Yu\n",
    "- Iris Wan\n",
    "- Mandy Gu\n",
    "- John Elmer Loretizo"
   ]
  },
  {
   "cell_type": "markdown",
   "metadata": {},
   "source": [
    "__Import packages needed__"
   ]
  },
  {
   "cell_type": "code",
   "execution_count": 1,
   "metadata": {},
   "outputs": [
    {
     "name": "stderr",
     "output_type": "stream",
     "text": [
      "[nltk_data] Downloading package punkt to /Users/qimenggu/nltk_data...\n",
      "[nltk_data]   Package punkt is already up-to-date!\n"
     ]
    },
    {
     "data": {
      "text/plain": [
       "True"
      ]
     },
     "execution_count": 1,
     "metadata": {},
     "output_type": "execute_result"
    }
   ],
   "source": [
    "import csv\n",
    "import re\n",
    "import requests\n",
    "from bs4 import BeautifulSoup\n",
    "from nltk.tokenize import sent_tokenize\n",
    "import nltk\n",
    "nltk.download('punkt')"
   ]
  },
  {
   "cell_type": "markdown",
   "metadata": {},
   "source": [
    "### Regular Expressions\n",
    "__Ingest `mock_data.csv` as a string file__"
   ]
  },
  {
   "cell_type": "code",
   "execution_count": 2,
   "metadata": {},
   "outputs": [
    {
     "name": "stdout",
     "output_type": "stream",
     "text": [
      "Column names are birthday, phone, names, lat_long, email, zip, city\n",
      "Processed 101 lines.\n"
     ]
    }
   ],
   "source": [
    "line = ''\n",
    "with open('mock_data.csv') as csv_file:\n",
    "    csv_reader = csv.reader(csv_file, delimiter=',')\n",
    "    line_count = 0\n",
    "    for row in csv_reader:\n",
    "        if line_count == 0:\n",
    "            print(f'Column names are {\", \".join(row)}')\n",
    "            line_count += 1\n",
    "        else:\n",
    "            for c in range(len(row)):\n",
    "                  line += row[c] + ' '\n",
    "            line_count += 1\n",
    "        line += '\\n'\n",
    "    print(f'Processed {line_count} lines.')"
   ]
  },
  {
   "cell_type": "markdown",
   "metadata": {},
   "source": [
    "__Preview data__"
   ]
  },
  {
   "cell_type": "code",
   "execution_count": 3,
   "metadata": {
    "scrolled": false
   },
   "outputs": [
    {
     "name": "stdout",
     "output_type": "stream",
     "text": [
      "\n",
      "05.07.2020 1-560-294-4480 Leslie H. Howard -80.7931, 157.73725 magna.Nam@Praesentinterdumligula.com 05-449 Campina Grande \n",
      "06.11.2019 1-616-403-7121 Kyra T. Wynn -54.65661, 87.93458 amet.ornare@uterosnon.net 1975 Bagh \n",
      "23.11.2020 1-258-160-9496 Darius G. Huff -56.23283, -116.1583 ipsum@erat.co.uk 24192 Conca Casale \n",
      "07.05.2020 1-129-425-6705 Flynn M. Rodriguez 50.02477, -93.02564 nunc.est.mollis@auctor.com 6311 Uyo \n",
      "25.09.2020 1-715-932-5611 Damon K. Potts 34.94064, 91.87029 neque.venenatis@Phasellus.ca 26531 Lahore \n",
      "30.12.2019 1-488-594-4480 Odessa U. Stewart 41.01394, 96.36819 Proin.mi@a.co.uk 40738 Namen \n",
      "04.03.2019 1-693-871-0017 Ruby M. Noble 75.21109, -148.67016 gravida.non.sollicitudin@odioNam.net 968589 Sevilla \n",
      "17.12.2020 1-337-498-7475 Hadassah W. Dale 32.72148, -122.01392 Cras@dictum.co.uk 5375 Bella \n",
      "24.02.2019 1-861-878-4813 Baker B. Francis 36.06121, -68.27199 erat@tinciduntnibhPhasellus.ca 65737 Chekhov \n",
      "25.09.2020 1-825-185-8476 Cheyenne K. Dean 56.5022, 151.02082 in@nequeseddictum.co.uk 302379 Stary Oskol \n",
      "23.07.2019 1-871-331-2303 Kevyn E. Cox 89.15273, 46.41947 vel@mollis.ca 695644 Midlands \n",
      "05.10.2019 1-378-622-9633 Gregory P. Hatfield -59.95322, 33.01087 egestas@mauriserat.com 8801 Córdoba \n",
      "29.03.2019 1-349-361-6222 Kylee J. Hoover 68.95134, 143.00006 egestas.hendrerit.neque@erat.net 69-970 Cortil-Noirmont \n",
      "23.03.2019 1-882-123-7786 Flavia M. Pitts -84.49028, 134.95122 nulla@scelerisquesed.co.uk Z44 3OC Alès \n",
      "02.12.2020 1-264-548-5318 Tamara V. Patrick 39.99846, 63.55341 tristique.pellentesque@egetvarius.net 66004 Tullibody \n",
      "29.02.2020 1-683-583-5210 Byron T. Horne 32.49449, 100.66053 erat.Etiam@senectus.com 5878 Wekweti \n",
      "07.07.2020 1-561-557-4779 Aubrey O. Barr -50.38051, 9.15288 amet.dapibus@dignissimlacusAliquam.edu 06-852 New Orleans \n",
      "08.08.2020 1-915-932-7907 India M. Burton -62.94522, 156.80774 cursus.luctus@risusatfringilla.org 20538 Bangor \n",
      "26.06.2020 1-571-390-3167 Tatiana O. Sloan 28.70745, 24.95209 ut@fermentummetusAenean.com 11028 Salem \n",
      "11.06.2020 1-317-888-9015 Kirsten S. Wolf -64.38445, -118.19839 rutrum@metusAliquam.co.uk 6751 DI Campbeltown \n",
      "28.01.2019 1-118-618-0317 Knox C. Farmer 2.41655, 85.92271 Proin.dolor@sagittisDuisgravida.ca 55802 Bergama \n",
      "06.09.2019 1-200-265-5339 Kieran P. Hendrix 55.02022, 33.43453 elit.pretium.et@vitaesodales.edu 864684 Rimbey \n",
      "06.06.2019 1-536-834-8974 Libby F. Mcmahon -39.34568, 0.14016 magna.a.tortor@id.net 676087 Quilaco \n",
      "05.12.2020 1-403-581-7504 Xanthus P. Long 58.72796, -131.54363 ornare.elit.elit@adipiscingenim.org 29883 Jundiaí \n",
      "09.01.2019 1-459-694-0112 Forrest Q. Stevens 89.20785, -0.57186 nulla.Integer@maurisipsumporta.ca 16974-448 Lac Ste. Anne \n",
      "17.08.2020 1-883-604-1559 Gisela M. Banks 14.21796, 62.71378 semper.rutrum.Fusce@Nullam.net 11319 Diego de Almagro \n",
      "10.06.2020 1-660-827-2100 Demetrius H. Solomon 63.39257, -142.31014 conubia.nostra.per@Nullamscelerisqueneque.edu 87453 Hulste \n",
      "06.10.2020 1-705-389-5984 Rhoda V. Thornton 12.23557, -160.4698 nec.eleifend.non@enim.co.uk 62623-64171 Seevetal \n",
      "20.11.2020 1-788-931-7585 William N. Thompson -35.82526, 134.59113 nibh@Nullamsuscipit.net 57-080 Böblingen \n",
      "27.04.2020 1-693-726-2073 Nathaniel R. Meadows -21.19925, -111.38604 elit.elit@sedfacilisis.ca Z8137 Torquay \n",
      "21.01.2019 1-733-737-3304 Kerry Y. Holman -30.41505, -167.69919 non.cursus@dignissimtemporarcu.co.uk 947358 Bajardo \n",
      "09.09.2019 1-627-678-0692 Brooke Y. Jensen 25.17997, -172.71433 et.libero@Sed.net 28964-40571 Tampa \n",
      "09.05.2019 1-617-988-6159 Carl Y. Hart -81.05365, 166.6208 non.cursus.non@ridiculus.edu 08651-455 Villar Pellice \n",
      "12.10.2020 1-738-577-3378 Yoko W. Conley 12.56792, 29.5851 eget.odio.Aliquam@scelerisque.ca 70528 Osimo \n",
      "29.10.2020 1-170-986-7969 Gisela E. Zamora -17.71338, -80.47218 Cras.dictum.ultricies@eu.com 62135-112 Banda Aceh \n",
      "19.12.2020 1-862-824-1890 Emily S. Morales 6.50359, 30.07917 rhoncus@elit.net 579173 Newtown \n",
      "25.12.2020 1-468-714-5514 Reed W. Larsen -68.94074, 119.03856 quam.a@dolor.com 71432-91389 Bronnitsy \n",
      "12.11.2020 1-493-308-8694 Cynthia U. Glass -64.69129, 88.84348 nulla.ante.iaculis@a.ca 214504 Buenaventura \n",
      "23.11.2019 1-566-925-7389 Craig X. Vance -69.0148, 165.22393 ac.risus.Morbi@suscipitest.co.uk 76045 Borchtlombeek \n",
      "04.01.2020 1-268-944-6965 Herrod U. Morrison -66.76159, -40.28233 velit@felis.net 443100 Castellina in Chianti \n",
      "31.10.2019 1-659-705-2352 Martin J. Baird 25.43639, 31.62998 ridiculus.mus.Aenean@molestiedapibus.net 7438 Tsiigehtchic \n",
      "23.09.2019 1-721-839-8699 Sybil L. Craft 70.34742, 51.18031 ipsum.primis.in@lorem.co.uk 85293 Vilna \n",
      "14.09.2020 1-419-527-3995 Carl L. Middleton 25.1437, -96.72922 congue.elit.sed@sapien.org 245861 Pontboset \n",
      "29.01.2020 1-999-934-3635 Erich F. Mann 37.48213, -53.5339 molestie.tortor@sitamet.edu 83472-452 Hertford \n",
      "13.04.2020 1-192-663-4543 Teagan I. Webster 70.36436, 138.33781 fames.ac@ligula.org 07570 Victoria \n",
      "18.09.2019 1-187-105-6643 Dacey R. Wilson -15.88582, -54.80389 Quisque@velitSed.org 89030 Algarrobo \n",
      "30.09.2020 1-340-750-6897 Berk M. Jordan -19.95651, -102.64553 Donec.tincidunt.Donec@anteblandit.com 33473 LamontzŽe \n",
      "17.11.2020 1-153-403-8432 Ezekiel A. Sherman -59.46452, -120.88989 lorem.eget@euismod.edu 08875 Guelph \n",
      "06.05.2019 1-334-364-7748 Castor O. Walter 28.8487, -38.76282 orci@nuncnulla.edu H0V 2J6 Gonda \n",
      "04.02.2020 1-157-436-0796 Christine P. Keith 87.66421, 3.49884 Curabitur.consequat.lectus@erat.edu 024292 Detroit \n",
      "04.01.2021 1-244-155-5471 Gillian J. Gross -38.86361, -70.91566 et.magnis.dis@nisl.com 04257 Sint-Renelde Saintes \n",
      "07.12.2019 1-826-267-3819 Tate X. Huff 39.79327, -88.76742 volutpat@duisemperet.co.uk 2429 Bogor \n",
      "05.03.2019 1-731-797-0418 April G. Pate 46.38718, 46.38781 arcu.iaculis.enim@tortorInteger.co.uk 29017 Thame \n",
      "14.07.2020 1-330-735-7005 Basia F. Alexander -29.38123, 91.04625 volutpat@anteMaecenasmi.edu 61770 Sommethonne \n",
      "11.10.2020 1-576-416-3377 MacKensie N. Wilson -5.52387, -61.69674 tempor.diam.dictum@cubiliaCuraeDonec.co.uk 993668 Marche-les-Dames \n",
      "14.04.2020 1-702-445-0164 Eleanor Y. Hill 58.28816, -134.60316 Mauris.ut.quam@urnaconvalliserat.org 29-385 Toulouse \n",
      "13.02.2020 1-440-983-5117 Pamela D. Kennedy -0.38127, 104.42787 a.mi.fringilla@ipsumprimis.ca 77322 Bois-de-Villers \n",
      "10.03.2020 1-435-212-3143 Nichole S. Sullivan 76.95968, 75.43192 Proin@Quisque.com 2636 Newport \n",
      "11.09.2020 1-924-168-2772 Keefe Y. Hebert -21.15394, 4.2894 rutrum.non.hendrerit@apurus.ca 29518 Salamanca \n",
      "30.08.2020 1-515-824-2566 Kyra N. Lindsey 75.91447, -136.4242 vel@nasceturridiculusmus.net 732440 Plancenoit \n",
      "31.05.2020 1-366-236-0827 Ifeoma W. Cantrell 54.42347, 110.36318 vestibulum.nec@eu.ca Z8651 Sint-Joost-ten-Node \n",
      "16.05.2019 1-463-136-7413 Brett W. Ellison 24.87553, -40.27266 ultrices.iaculis.odio@mipede.edu 39529 Opwijk \n",
      "30.04.2020 1-754-488-2253 Phyllis P. Houston 42.5206, -87.48687 lorem.sit@Mauris.edu 648777 Kakisa \n",
      "09.06.2019 1-783-398-6839 Sonia L. Wagner 43.27127, 30.50554 consectetuer.rhoncus@metus.edu 30215 Juan Fernández \n",
      "10.05.2020 1-712-863-7901 Amery W. Ballard -74.52083, 90.36652 eget.metus@Proin.co.uk 461711 Ospedaletto Lodigiano \n",
      "21.02.2019 1-884-596-2953 Paul R. Woods -8.18776, 51.37251 ante.ipsum@necluctus.ca 72-189 Cassaro \n",
      "30.04.2019 1-419-232-7108 Myra A. Russo -63.17778, -154.27882 Etiam.gravida.molestie@vitaeposuereat.edu 5845 XU Teodoro Schmidt \n",
      "29.07.2019 1-734-670-7362 Colleen S. Marks 88.80091, 162.27777 Phasellus.dapibus.quam@consequatnecmollis.net 422676 Tongrinne \n",
      "05.11.2019 1-516-424-8147 Scott Y. Salinas -62.06726, -65.46811 luctus.Curabitur@eu.com 27798 Huppaye \n",
      "21.12.2020 1-933-535-5660 Alfreda A. Moore 48.95176, 130.90851 commodo.at.libero@nuncid.com 79-276 Rodengo/Rodeneck \n",
      "14.01.2019 1-296-999-4680 Charles T. Lindsay 77.47632, -159.02314 lectus@Integerid.org 01432 Kimberly \n",
      "30.06.2020 1-905-270-1942 Bert G. Blair 30.52258, 71.47637 at.sem.molestie@indolor.net IM29 8EX San Felice a Cancello \n",
      "17.08.2020 1-484-337-4580 Plato O. Burgess 83.37789, -70.20963 egestas.Duis@feugiatmetussit.ca 54780 Narbolia \n",
      "08.12.2020 1-404-598-8404 Jamal L. Leon -83.89639, -106.54687 ipsum@turpis.com 0444 Auldearn \n",
      "06.04.2019 1-669-894-7349 Chava S. Workman 1.80377, -43.1461 habitant@nulla.ca 5695 New Galloway \n",
      "04.01.2020 1-385-809-9586 Jolene K. Faulkner 84.59178, -41.70744 semper.cursus.Integer@eueuismodac.net 60916 Devizes \n",
      "31.12.2019 1-253-355-8549 Courtney W. Kerr -37.4529, -130.57738 nonummy.ac@mauris.com 00142 Nellore \n",
      "11.09.2020 1-618-610-2856 Coby V. Christian 9.50853, -7.64751 dui.in@sociisnatoque.org 71215 Trani \n",
      "04.06.2020 1-610-348-5034 Logan K. Petersen -55.38965, 119.39998 Pellentesque@semperrutrumFusce.net 23445 Umerkot \n",
      "22.08.2020 1-845-692-6193 Charlotte W. Jennings 35.12842, -7.53647 luctus@gravidasitamet.com Z7211 Aschersleben \n",
      "29.01.2020 1-137-115-2953 Shana D. Marks -77.38444, -65.65454 adipiscing.fringilla.porttitor@Quisqueporttitor.co.uk 47797 Philadelphia \n",
      "13.10.2019 1-194-290-8080 Cadman T. Mitchell 23.20457, -115.90137 Aenean.eget.magna@ultrices.edu 25269 Badajoz \n",
      "30.11.2020 1-649-397-7395 Pascale U. Wong -69.78969, -78.71122 eu.turpis.Nulla@justo.ca 754662 Dangjin \n",
      "08.06.2020 1-205-868-6608 Martena V. Heath 18.59665, 127.54506 ipsum.sodales.purus@sempercursusInteger.co.uk 27936 Saint-Quentin \n",
      "29.07.2019 1-178-427-4737 Germane A. Parker -54.89724, 105.65803 mi.lorem@auctor.ca 127767 Schwedt \n",
      "12.11.2019 1-364-540-6302 Mannix O. Reyes 79.972, -87.40092 Duis@sit.edu 45247 St. Paul \n",
      "09.07.2020 1-650-203-1719 Wynter E. Galloway 35.27071, 137.60057 purus.accumsan@necmalesuada.co.uk 33134 Idaho Falls \n",
      "10.02.2020 1-291-155-0181 Sybil H. Hines 80.86498, 42.72178 metus.In.nec@facilisi.ca S8W 1Z7 Lörrach \n",
      "09.07.2019 1-746-240-8034 Grady G. Shelton 38.67297, -133.51202 lobortis.Class@luctusut.net 89917 Hennigsdorf \n",
      "23.03.2020 1-674-525-8540 Ria J. Wilson 74.93692, 70.46767 mollis.Integer.tincidunt@ut.ca 65822-35076 Aiello Calabro \n",
      "23.01.2019 1-112-523-5404 Darrel A. Rojas -64.57208, -149.73866 erat.volutpat@SedmolestieSed.co.uk 06279 East Jakarta \n",
      "20.09.2020 1-128-503-9404 Jermaine B. Sexton 11.947, -79.33305 lobortis.Class.aptent@porttitorvulputate.ca 89729 Annan \n",
      "08.11.2020 1-904-424-8266 Erasmus X. Finley 67.8675, 30.81345 id.libero.Donec@malesuadavelconvallis.net 06193 Mérignac \n",
      "03.02.2019 1-349-941-0735 Allen N. Noel 33.7464, -118.05116 odio@porttitorscelerisque.com 95594 Vilcún \n",
      "03.02.2019 1-408-166-4703 Elmo V. Page 32.3939, -69.68619 sollicitudin@risus.edu 82419-29635 Newtonmore \n",
      "27.10.2019 1-830-227-5876 Germane X. Ingram 34.24397, 1.14447 Donec@imperdietnec.com 6975 Göppingen \n",
      "07.08.2019 1-305-546-8242 Tad P. Reilly 0.33915, 91.01438 facilisis@liberodui.com 55476 Pictou \n",
      "08.04.2020 1-276-169-7194 Lilah Z. Ratliff -56.36237, -62.80281 viverra.Donec.tempus@magnisdis.ca 381080 Trieste \n",
      "07.10.2020 1-821-467-2365 Evan L. Murphy -30.59229, 37.86276 enim@arcu.edu 24610 Strongoli \n",
      "14.01.2020 1-790-610-1419 Galena Y. Hoover -8.52879, -88.61456 eget.varius.ultrices@Quisqueornare.com 92-366 Margate \n",
      "\n"
     ]
    }
   ],
   "source": [
    "print(line)"
   ]
  },
  {
   "cell_type": "markdown",
   "metadata": {},
   "source": [
    "__Question 1__ Transform the column birthday from European to US data format while leaving the rest as is."
   ]
  },
  {
   "cell_type": "markdown",
   "metadata": {},
   "source": [
    "Existing European birthday format is as follows:\n",
    "$$dd.mm.YYYY$$\n",
    "\n",
    "The desired US date format is:\n",
    "$$mm/dd \\ YYYY$$\n",
    "\n",
    "Regular Expression Search Format:\n",
    "`'([012][\\d]|3[0-1])\\.(0[1-9]|1[0-2])\\.([012][\\d]{3})'`\n",
    "\n",
    "The regular expression search string will be composed of three individual capture groups separated by periods. \n",
    "\n",
    "__First Capture Group__ <br>\n",
    "Ground truth dictates that birthdates can only be between 01 - 31. <br>\n",
    "`(0[1-9]|[12][\\d]|3[0-1])` : <br>\n",
    "Case 1 - 0 as first digit and numbers 1 to 9 as second digit. <br>\n",
    "Case 2 - 1 or 2 as first digit and any number as second digit. <br>\n",
    "Case 3 - 3 as first digit and only numbers 0 and 1 as second digit.\n",
    "\n",
    "__Second Capture Group__ <br>\n",
    "Ground truth dictates that month numbers can only be between 01 - 12. <br>\n",
    "`(0[1-9]|1[0-2])` : <br>\n",
    "Case 1 - 0 as first digit and numbers 0 to 9 as second digit. <br>\n",
    "Case 2 - 1 as first digit and only numbers 0 to 2 as second digit. \n",
    "\n",
    "__Third Capture Group__ <br>\n",
    "Ground truth dictates that a year can only be up to 2000s. <br>\n",
    "`([012][\\d]{3})` : <br>\n",
    "Case 1 - First digit can only be 0 - 2 and any three digits accompanying after.\n",
    "\n",
    "Replace Format:\n",
    "`'\\\\2/\\\\1 \\\\3'`\n",
    "\n",
    "The replace format moves the month first followed by a forward slash and then the date and the year after the space."
   ]
  },
  {
   "cell_type": "code",
   "execution_count": 4,
   "metadata": {
    "scrolled": false
   },
   "outputs": [
    {
     "name": "stdout",
     "output_type": "stream",
     "text": [
      "\n",
      "07/05 2020 1-560-294-4480 Leslie H. Howard -80.7931, 157.73725 magna.Nam@Praesentinterdumligula.com 05-449 Campina Grande \n",
      "11/06 2019 1-616-403-7121 Kyra T. Wynn -54.65661, 87.93458 amet.ornare@uterosnon.net 1975 Bagh \n",
      "11/23 2020 1-258-160-9496 Darius G. Huff -56.23283, -116.1583 ipsum@erat.co.uk 24192 Conca Casale \n",
      "05/07 2020 1-129-425-6705 Flynn M. Rodriguez 50.02477, -93.02564 nunc.est.mollis@auctor.com 6311 Uyo \n",
      "09/25 2020 1-715-932-5611 Damon K. Potts 34.94064, 91.87029 neque.venenatis@Phasellus.ca 26531 Lahore \n",
      "12/30 2019 1-488-594-4480 Odessa U. Stewart 41.01394, 96.36819 Proin.mi@a.co.uk 40738 Namen \n",
      "03/04 2019 1-693-871-0017 Ruby M. Noble 75.21109, -148.67016 gravida.non.sollicitudin@odioNam.net 968589 Sevilla \n",
      "12/17 2020 1-337-498-7475 Hadassah W. Dale 32.72148, -122.01392 Cras@dictum.co.uk 5375 Bella \n",
      "02/24 2019 1-861-878-4813 Baker B. Francis 36.06121, -68.27199 erat@tinciduntnibhPhasellus.ca 65737 Chekhov \n",
      "09/25 2020 1-825-185-8476 Cheyenne K. Dean 56.5022, 151.02082 in@nequeseddictum.co.uk 302379 Stary Oskol \n",
      "07/23 2019 1-871-331-2303 Kevyn E. Cox 89.15273, 46.41947 vel@mollis.ca 695644 Midlands \n",
      "10/05 2019 1-378-622-9633 Gregory P. Hatfield -59.95322, 33.01087 egestas@mauriserat.com 8801 Córdoba \n",
      "03/29 2019 1-349-361-6222 Kylee J. Hoover 68.95134, 143.00006 egestas.hendrerit.neque@erat.net 69-970 Cortil-Noirmont \n",
      "03/23 2019 1-882-123-7786 Flavia M. Pitts -84.49028, 134.95122 nulla@scelerisquesed.co.uk Z44 3OC Alès \n",
      "12/02 2020 1-264-548-5318 Tamara V. Patrick 39.99846, 63.55341 tristique.pellentesque@egetvarius.net 66004 Tullibody \n",
      "02/29 2020 1-683-583-5210 Byron T. Horne 32.49449, 100.66053 erat.Etiam@senectus.com 5878 Wekweti \n",
      "07/07 2020 1-561-557-4779 Aubrey O. Barr -50.38051, 9.15288 amet.dapibus@dignissimlacusAliquam.edu 06-852 New Orleans \n",
      "08/08 2020 1-915-932-7907 India M. Burton -62.94522, 156.80774 cursus.luctus@risusatfringilla.org 20538 Bangor \n",
      "06/26 2020 1-571-390-3167 Tatiana O. Sloan 28.70745, 24.95209 ut@fermentummetusAenean.com 11028 Salem \n",
      "06/11 2020 1-317-888-9015 Kirsten S. Wolf -64.38445, -118.19839 rutrum@metusAliquam.co.uk 6751 DI Campbeltown \n",
      "01/28 2019 1-118-618-0317 Knox C. Farmer 2.41655, 85.92271 Proin.dolor@sagittisDuisgravida.ca 55802 Bergama \n",
      "09/06 2019 1-200-265-5339 Kieran P. Hendrix 55.02022, 33.43453 elit.pretium.et@vitaesodales.edu 864684 Rimbey \n",
      "06/06 2019 1-536-834-8974 Libby F. Mcmahon -39.34568, 0.14016 magna.a.tortor@id.net 676087 Quilaco \n",
      "12/05 2020 1-403-581-7504 Xanthus P. Long 58.72796, -131.54363 ornare.elit.elit@adipiscingenim.org 29883 Jundiaí \n",
      "01/09 2019 1-459-694-0112 Forrest Q. Stevens 89.20785, -0.57186 nulla.Integer@maurisipsumporta.ca 16974-448 Lac Ste. Anne \n",
      "08/17 2020 1-883-604-1559 Gisela M. Banks 14.21796, 62.71378 semper.rutrum.Fusce@Nullam.net 11319 Diego de Almagro \n",
      "06/10 2020 1-660-827-2100 Demetrius H. Solomon 63.39257, -142.31014 conubia.nostra.per@Nullamscelerisqueneque.edu 87453 Hulste \n",
      "10/06 2020 1-705-389-5984 Rhoda V. Thornton 12.23557, -160.4698 nec.eleifend.non@enim.co.uk 62623-64171 Seevetal \n",
      "11/20 2020 1-788-931-7585 William N. Thompson -35.82526, 134.59113 nibh@Nullamsuscipit.net 57-080 Böblingen \n",
      "04/27 2020 1-693-726-2073 Nathaniel R. Meadows -21.19925, -111.38604 elit.elit@sedfacilisis.ca Z8137 Torquay \n",
      "01/21 2019 1-733-737-3304 Kerry Y. Holman -30.41505, -167.69919 non.cursus@dignissimtemporarcu.co.uk 947358 Bajardo \n",
      "09/09 2019 1-627-678-0692 Brooke Y. Jensen 25.17997, -172.71433 et.libero@Sed.net 28964-40571 Tampa \n",
      "05/09 2019 1-617-988-6159 Carl Y. Hart -81.05365, 166.6208 non.cursus.non@ridiculus.edu 08651-455 Villar Pellice \n",
      "10/12 2020 1-738-577-3378 Yoko W. Conley 12.56792, 29.5851 eget.odio.Aliquam@scelerisque.ca 70528 Osimo \n",
      "10/29 2020 1-170-986-7969 Gisela E. Zamora -17.71338, -80.47218 Cras.dictum.ultricies@eu.com 62135-112 Banda Aceh \n",
      "12/19 2020 1-862-824-1890 Emily S. Morales 6.50359, 30.07917 rhoncus@elit.net 579173 Newtown \n",
      "12/25 2020 1-468-714-5514 Reed W. Larsen -68.94074, 119.03856 quam.a@dolor.com 71432-91389 Bronnitsy \n",
      "11/12 2020 1-493-308-8694 Cynthia U. Glass -64.69129, 88.84348 nulla.ante.iaculis@a.ca 214504 Buenaventura \n",
      "11/23 2019 1-566-925-7389 Craig X. Vance -69.0148, 165.22393 ac.risus.Morbi@suscipitest.co.uk 76045 Borchtlombeek \n",
      "01/04 2020 1-268-944-6965 Herrod U. Morrison -66.76159, -40.28233 velit@felis.net 443100 Castellina in Chianti \n",
      "10/31 2019 1-659-705-2352 Martin J. Baird 25.43639, 31.62998 ridiculus.mus.Aenean@molestiedapibus.net 7438 Tsiigehtchic \n",
      "09/23 2019 1-721-839-8699 Sybil L. Craft 70.34742, 51.18031 ipsum.primis.in@lorem.co.uk 85293 Vilna \n",
      "09/14 2020 1-419-527-3995 Carl L. Middleton 25.1437, -96.72922 congue.elit.sed@sapien.org 245861 Pontboset \n",
      "01/29 2020 1-999-934-3635 Erich F. Mann 37.48213, -53.5339 molestie.tortor@sitamet.edu 83472-452 Hertford \n",
      "04/13 2020 1-192-663-4543 Teagan I. Webster 70.36436, 138.33781 fames.ac@ligula.org 07570 Victoria \n",
      "09/18 2019 1-187-105-6643 Dacey R. Wilson -15.88582, -54.80389 Quisque@velitSed.org 89030 Algarrobo \n",
      "09/30 2020 1-340-750-6897 Berk M. Jordan -19.95651, -102.64553 Donec.tincidunt.Donec@anteblandit.com 33473 LamontzŽe \n",
      "11/17 2020 1-153-403-8432 Ezekiel A. Sherman -59.46452, -120.88989 lorem.eget@euismod.edu 08875 Guelph \n",
      "05/06 2019 1-334-364-7748 Castor O. Walter 28.8487, -38.76282 orci@nuncnulla.edu H0V 2J6 Gonda \n",
      "02/04 2020 1-157-436-0796 Christine P. Keith 87.66421, 3.49884 Curabitur.consequat.lectus@erat.edu 024292 Detroit \n",
      "01/04 2021 1-244-155-5471 Gillian J. Gross -38.86361, -70.91566 et.magnis.dis@nisl.com 04257 Sint-Renelde Saintes \n",
      "12/07 2019 1-826-267-3819 Tate X. Huff 39.79327, -88.76742 volutpat@duisemperet.co.uk 2429 Bogor \n",
      "03/05 2019 1-731-797-0418 April G. Pate 46.38718, 46.38781 arcu.iaculis.enim@tortorInteger.co.uk 29017 Thame \n",
      "07/14 2020 1-330-735-7005 Basia F. Alexander -29.38123, 91.04625 volutpat@anteMaecenasmi.edu 61770 Sommethonne \n",
      "10/11 2020 1-576-416-3377 MacKensie N. Wilson -5.52387, -61.69674 tempor.diam.dictum@cubiliaCuraeDonec.co.uk 993668 Marche-les-Dames \n",
      "04/14 2020 1-702-445-0164 Eleanor Y. Hill 58.28816, -134.60316 Mauris.ut.quam@urnaconvalliserat.org 29-385 Toulouse \n",
      "02/13 2020 1-440-983-5117 Pamela D. Kennedy -0.38127, 104.42787 a.mi.fringilla@ipsumprimis.ca 77322 Bois-de-Villers \n",
      "03/10 2020 1-435-212-3143 Nichole S. Sullivan 76.95968, 75.43192 Proin@Quisque.com 2636 Newport \n",
      "09/11 2020 1-924-168-2772 Keefe Y. Hebert -21.15394, 4.2894 rutrum.non.hendrerit@apurus.ca 29518 Salamanca \n",
      "08/30 2020 1-515-824-2566 Kyra N. Lindsey 75.91447, -136.4242 vel@nasceturridiculusmus.net 732440 Plancenoit \n",
      "05/31 2020 1-366-236-0827 Ifeoma W. Cantrell 54.42347, 110.36318 vestibulum.nec@eu.ca Z8651 Sint-Joost-ten-Node \n",
      "05/16 2019 1-463-136-7413 Brett W. Ellison 24.87553, -40.27266 ultrices.iaculis.odio@mipede.edu 39529 Opwijk \n",
      "04/30 2020 1-754-488-2253 Phyllis P. Houston 42.5206, -87.48687 lorem.sit@Mauris.edu 648777 Kakisa \n",
      "06/09 2019 1-783-398-6839 Sonia L. Wagner 43.27127, 30.50554 consectetuer.rhoncus@metus.edu 30215 Juan Fernández \n",
      "05/10 2020 1-712-863-7901 Amery W. Ballard -74.52083, 90.36652 eget.metus@Proin.co.uk 461711 Ospedaletto Lodigiano \n",
      "02/21 2019 1-884-596-2953 Paul R. Woods -8.18776, 51.37251 ante.ipsum@necluctus.ca 72-189 Cassaro \n",
      "04/30 2019 1-419-232-7108 Myra A. Russo -63.17778, -154.27882 Etiam.gravida.molestie@vitaeposuereat.edu 5845 XU Teodoro Schmidt \n",
      "07/29 2019 1-734-670-7362 Colleen S. Marks 88.80091, 162.27777 Phasellus.dapibus.quam@consequatnecmollis.net 422676 Tongrinne \n",
      "11/05 2019 1-516-424-8147 Scott Y. Salinas -62.06726, -65.46811 luctus.Curabitur@eu.com 27798 Huppaye \n",
      "12/21 2020 1-933-535-5660 Alfreda A. Moore 48.95176, 130.90851 commodo.at.libero@nuncid.com 79-276 Rodengo/Rodeneck \n",
      "01/14 2019 1-296-999-4680 Charles T. Lindsay 77.47632, -159.02314 lectus@Integerid.org 01432 Kimberly \n",
      "06/30 2020 1-905-270-1942 Bert G. Blair 30.52258, 71.47637 at.sem.molestie@indolor.net IM29 8EX San Felice a Cancello \n",
      "08/17 2020 1-484-337-4580 Plato O. Burgess 83.37789, -70.20963 egestas.Duis@feugiatmetussit.ca 54780 Narbolia \n",
      "12/08 2020 1-404-598-8404 Jamal L. Leon -83.89639, -106.54687 ipsum@turpis.com 0444 Auldearn \n",
      "04/06 2019 1-669-894-7349 Chava S. Workman 1.80377, -43.1461 habitant@nulla.ca 5695 New Galloway \n",
      "01/04 2020 1-385-809-9586 Jolene K. Faulkner 84.59178, -41.70744 semper.cursus.Integer@eueuismodac.net 60916 Devizes \n",
      "12/31 2019 1-253-355-8549 Courtney W. Kerr -37.4529, -130.57738 nonummy.ac@mauris.com 00142 Nellore \n",
      "09/11 2020 1-618-610-2856 Coby V. Christian 9.50853, -7.64751 dui.in@sociisnatoque.org 71215 Trani \n",
      "06/04 2020 1-610-348-5034 Logan K. Petersen -55.38965, 119.39998 Pellentesque@semperrutrumFusce.net 23445 Umerkot \n",
      "08/22 2020 1-845-692-6193 Charlotte W. Jennings 35.12842, -7.53647 luctus@gravidasitamet.com Z7211 Aschersleben \n",
      "01/29 2020 1-137-115-2953 Shana D. Marks -77.38444, -65.65454 adipiscing.fringilla.porttitor@Quisqueporttitor.co.uk 47797 Philadelphia \n",
      "10/13 2019 1-194-290-8080 Cadman T. Mitchell 23.20457, -115.90137 Aenean.eget.magna@ultrices.edu 25269 Badajoz \n",
      "11/30 2020 1-649-397-7395 Pascale U. Wong -69.78969, -78.71122 eu.turpis.Nulla@justo.ca 754662 Dangjin \n",
      "06/08 2020 1-205-868-6608 Martena V. Heath 18.59665, 127.54506 ipsum.sodales.purus@sempercursusInteger.co.uk 27936 Saint-Quentin \n",
      "07/29 2019 1-178-427-4737 Germane A. Parker -54.89724, 105.65803 mi.lorem@auctor.ca 127767 Schwedt \n",
      "11/12 2019 1-364-540-6302 Mannix O. Reyes 79.972, -87.40092 Duis@sit.edu 45247 St. Paul \n",
      "07/09 2020 1-650-203-1719 Wynter E. Galloway 35.27071, 137.60057 purus.accumsan@necmalesuada.co.uk 33134 Idaho Falls \n",
      "02/10 2020 1-291-155-0181 Sybil H. Hines 80.86498, 42.72178 metus.In.nec@facilisi.ca S8W 1Z7 Lörrach \n",
      "07/09 2019 1-746-240-8034 Grady G. Shelton 38.67297, -133.51202 lobortis.Class@luctusut.net 89917 Hennigsdorf \n",
      "03/23 2020 1-674-525-8540 Ria J. Wilson 74.93692, 70.46767 mollis.Integer.tincidunt@ut.ca 65822-35076 Aiello Calabro \n",
      "01/23 2019 1-112-523-5404 Darrel A. Rojas -64.57208, -149.73866 erat.volutpat@SedmolestieSed.co.uk 06279 East Jakarta \n",
      "09/20 2020 1-128-503-9404 Jermaine B. Sexton 11.947, -79.33305 lobortis.Class.aptent@porttitorvulputate.ca 89729 Annan \n",
      "11/08 2020 1-904-424-8266 Erasmus X. Finley 67.8675, 30.81345 id.libero.Donec@malesuadavelconvallis.net 06193 Mérignac \n",
      "02/03 2019 1-349-941-0735 Allen N. Noel 33.7464, -118.05116 odio@porttitorscelerisque.com 95594 Vilcún \n",
      "02/03 2019 1-408-166-4703 Elmo V. Page 32.3939, -69.68619 sollicitudin@risus.edu 82419-29635 Newtonmore \n",
      "10/27 2019 1-830-227-5876 Germane X. Ingram 34.24397, 1.14447 Donec@imperdietnec.com 6975 Göppingen \n",
      "08/07 2019 1-305-546-8242 Tad P. Reilly 0.33915, 91.01438 facilisis@liberodui.com 55476 Pictou \n",
      "04/08 2020 1-276-169-7194 Lilah Z. Ratliff -56.36237, -62.80281 viverra.Donec.tempus@magnisdis.ca 381080 Trieste \n",
      "10/07 2020 1-821-467-2365 Evan L. Murphy -30.59229, 37.86276 enim@arcu.edu 24610 Strongoli \n",
      "01/14 2020 1-790-610-1419 Galena Y. Hoover -8.52879, -88.61456 eget.varius.ultrices@Quisqueornare.com 92-366 Margate \n",
      "\n"
     ]
    }
   ],
   "source": [
    "q1 = re.sub(r'([012][\\d]|3[0-1])\\.(0[1-9]|1[0-2])\\.([012][\\d]{3})', '\\\\2/\\\\1 \\\\3', line)\n",
    "print (q1)"
   ]
  },
  {
   "cell_type": "markdown",
   "metadata": {},
   "source": [
    "__Question 2__ Strip everything BUT the email column\n",
    "\n",
    "Regular Expression Search Format: `[!#$%&\\'*+-/=?^_'`` `{|}~\\.a-zA-Z0-9]+@[-a-zA-Z0-9]+\\.[-a-zA-Z0-9]+`\n",
    "\n",
    "The capture group is generally separted between local part and the domain part. As a standard, RFC 5322 (sections 3.2.3 and 3.4.1) and RFC 5321 were followed in building the regex search format above."
   ]
  },
  {
   "cell_type": "code",
   "execution_count": 5,
   "metadata": {},
   "outputs": [
    {
     "name": "stdout",
     "output_type": "stream",
     "text": [
      "\n",
      "magna.Nam@Praesentinterdumligula.com\n",
      "amet.ornare@uterosnon.net\n",
      "ipsum@erat.co.uk 24192 Conca Casale \n",
      "nunc.est.mollis@auctor.com\n",
      "neque.venenatis@Phasellus.ca\n",
      "Proin.mi@a.co.uk 40738 Namen \n",
      "gravida.non.sollicitudin@odioNam.net\n",
      "Cras@dictum.co.uk 5375 Bella \n",
      "erat@tinciduntnibhPhasellus.ca\n",
      "in@nequeseddictum.co.uk 302379 Stary Oskol \n",
      "vel@mollis.ca\n",
      "egestas@mauriserat.com\n",
      "egestas.hendrerit.neque@erat.net\n",
      "nulla@scelerisquesed.co.uk Z44 3OC Alès \n",
      "tristique.pellentesque@egetvarius.net\n",
      "erat.Etiam@senectus.com\n",
      "amet.dapibus@dignissimlacusAliquam.edu\n",
      "cursus.luctus@risusatfringilla.org\n",
      "ut@fermentummetusAenean.com\n",
      "rutrum@metusAliquam.co.uk 6751 DI Campbeltown \n",
      "Proin.dolor@sagittisDuisgravida.ca\n",
      "elit.pretium.et@vitaesodales.edu\n",
      "magna.a.tortor@id.net\n",
      "ornare.elit.elit@adipiscingenim.org\n",
      "nulla.Integer@maurisipsumporta.ca. Anne \n",
      "semper.rutrum.Fusce@Nullam.net\n",
      "conubia.nostra.per@Nullamscelerisqueneque.edu\n",
      "nec.eleifend.non@enim.co.uk 62623-64171 Seevetal \n",
      "nibh@Nullamsuscipit.net\n",
      "elit.elit@sedfacilisis.ca\n",
      "non.cursus@dignissimtemporarcu.co.uk 947358 Bajardo \n",
      "et.libero@Sed.net\n",
      "non.cursus.non@ridiculus.edu\n",
      "eget.odio.Aliquam@scelerisque.ca\n",
      "Cras.dictum.ultricies@eu.com\n",
      "rhoncus@elit.net\n",
      "quam.a@dolor.com\n",
      "nulla.ante.iaculis@a.ca\n",
      "ac.risus.Morbi@suscipitest.co.uk 76045 Borchtlombeek \n",
      "velit@felis.net\n",
      "ridiculus.mus.Aenean@molestiedapibus.net\n",
      "ipsum.primis.in@lorem.co.uk 85293 Vilna \n",
      "congue.elit.sed@sapien.org\n",
      "molestie.tortor@sitamet.edu\n",
      "fames.ac@ligula.org\n",
      "Quisque@velitSed.org\n",
      "Donec.tincidunt.Donec@anteblandit.com\n",
      "lorem.eget@euismod.edu\n",
      "orci@nuncnulla.edu\n",
      "Curabitur.consequat.lectus@erat.edu\n",
      "et.magnis.dis@nisl.com\n",
      "volutpat@duisemperet.co.uk 2429 Bogor \n",
      "arcu.iaculis.enim@tortorInteger.co.uk 29017 Thame \n",
      "volutpat@anteMaecenasmi.edu\n",
      "tempor.diam.dictum@cubiliaCuraeDonec.co.uk 993668 Marche-les-Dames \n",
      "Mauris.ut.quam@urnaconvalliserat.org\n",
      "a.mi.fringilla@ipsumprimis.ca\n",
      "Proin@Quisque.com\n",
      "rutrum.non.hendrerit@apurus.ca\n",
      "vel@nasceturridiculusmus.net\n",
      "vestibulum.nec@eu.ca\n",
      "ultrices.iaculis.odio@mipede.edu\n",
      "lorem.sit@Mauris.edu\n",
      "consectetuer.rhoncus@metus.edu\n",
      "eget.metus@Proin.co.uk 461711 Ospedaletto Lodigiano \n",
      "ante.ipsum@necluctus.ca\n",
      "Etiam.gravida.molestie@vitaeposuereat.edu\n",
      "Phasellus.dapibus.quam@consequatnecmollis.net\n",
      "luctus.Curabitur@eu.com\n",
      "commodo.at.libero@nuncid.com/Rodeneck \n",
      "lectus@Integerid.org\n",
      "at.sem.molestie@indolor.net\n",
      "egestas.Duis@feugiatmetussit.ca\n",
      "ipsum@turpis.com\n",
      "habitant@nulla.ca\n",
      "semper.cursus.Integer@eueuismodac.net\n",
      "nonummy.ac@mauris.com\n",
      "dui.in@sociisnatoque.org\n",
      "Pellentesque@semperrutrumFusce.net\n",
      "luctus@gravidasitamet.com\n",
      "adipiscing.fringilla.porttitor@Quisqueporttitor.co.uk 47797 Philadelphia \n",
      "Aenean.eget.magna@ultrices.edu\n",
      "eu.turpis.Nulla@justo.ca\n",
      "ipsum.sodales.purus@sempercursusInteger.co.uk 27936 Saint-Quentin \n",
      "mi.lorem@auctor.ca\n",
      "Duis@sit.edu. Paul \n",
      "purus.accumsan@necmalesuada.co.uk 33134 Idaho Falls \n",
      "metus.In.nec@facilisi.ca\n",
      "lobortis.Class@luctusut.net\n",
      "mollis.Integer.tincidunt@ut.ca\n",
      "erat.volutpat@SedmolestieSed.co.uk 06279 East Jakarta \n",
      "lobortis.Class.aptent@porttitorvulputate.ca\n",
      "id.libero.Donec@malesuadavelconvallis.net\n",
      "odio@porttitorscelerisque.com\n",
      "sollicitudin@risus.edu\n",
      "Donec@imperdietnec.com\n",
      "facilisis@liberodui.com\n",
      "viverra.Donec.tempus@magnisdis.ca\n",
      "enim@arcu.edu\n",
      "eget.varius.ultrices@Quisqueornare.com\n",
      "\n",
      "None\n"
     ]
    }
   ],
   "source": [
    "q2 = print(re.sub(r\"([0-9.].*?)([!#$%&'*+-/=?^_'\\`{|}~\\.\\w]+@[-\\w]+\\.[-\\w]+)([-\\w, ]*)\",r\"\\2\",line))\n",
    "print(q2)"
   ]
  },
  {
   "cell_type": "markdown",
   "metadata": {},
   "source": [
    "__Question 3__ Convert all rows to \"name [TAB] birthday\" only (and strip the rest).  The birthday column should be in the US format. ([TAB]s will allow you to copy and pass its result into excel.)\n"
   ]
  },
  {
   "cell_type": "code",
   "execution_count": 6,
   "metadata": {},
   "outputs": [
    {
     "name": "stdout",
     "output_type": "stream",
     "text": [
      "\n",
      "Leslie H. Howard\t07/05 2020\n",
      "Kyra T. Wynn\t11/06 2019\n",
      "Darius G. Huff\t11/23 2020\n",
      "Flynn M. Rodriguez\t05/07 2020\n",
      "Damon K. Potts\t09/25 2020\n",
      "Odessa U. Stewart\t12/30 2019\n",
      "Ruby M. Noble\t03/04 2019\n",
      "Hadassah W. Dale\t12/17 2020\n",
      "Baker B. Francis\t02/24 2019\n",
      "Cheyenne K. Dean\t09/25 2020\n",
      "Kevyn E. Cox\t07/23 2019\n",
      "Gregory P. Hatfield\t10/05 2019\n",
      "Kylee J. Hoover\t03/29 2019\n",
      "Flavia M. Pitts\t03/23 2019\n",
      "Tamara V. Patrick\t12/02 2020\n",
      "Byron T. Horne\t02/29 2020\n",
      "Aubrey O. Barr\t07/07 2020\n",
      "India M. Burton\t08/08 2020\n",
      "Tatiana O. Sloan\t06/26 2020\n",
      "Kirsten S. Wolf\t06/11 2020\n",
      "Knox C. Farmer\t01/28 2019\n",
      "Kieran P. Hendrix\t09/06 2019\n",
      "Libby F. Mcmahon\t06/06 2019\n",
      "Xanthus P. Long\t12/05 2020\n",
      "Forrest Q. Stevens\t01/09 2019\n",
      "Gisela M. Banks\t08/17 2020\n",
      "Demetrius H. Solomon\t06/10 2020\n",
      "Rhoda V. Thornton\t10/06 2020\n",
      "William N. Thompson\t11/20 2020\n",
      "Nathaniel R. Meadows\t04/27 2020\n",
      "Kerry Y. Holman\t01/21 2019\n",
      "Brooke Y. Jensen\t09/09 2019\n",
      "Carl Y. Hart\t05/09 2019\n",
      "Yoko W. Conley\t10/12 2020\n",
      "Gisela E. Zamora\t10/29 2020\n",
      "Emily S. Morales\t12/19 2020\n",
      "Reed W. Larsen\t12/25 2020\n",
      "Cynthia U. Glass\t11/12 2020\n",
      "Craig X. Vance\t11/23 2019\n",
      "Herrod U. Morrison\t01/04 2020\n",
      "Martin J. Baird\t10/31 2019\n",
      "Sybil L. Craft\t09/23 2019\n",
      "Carl L. Middleton\t09/14 2020\n",
      "Erich F. Mann\t01/29 2020\n",
      "Teagan I. Webster\t04/13 2020\n",
      "Dacey R. Wilson\t09/18 2019\n",
      "Berk M. Jordan\t09/30 2020\n",
      "Ezekiel A. Sherman\t11/17 2020\n",
      "Castor O. Walter\t05/06 2019\n",
      "Christine P. Keith\t02/04 2020\n",
      "Gillian J. Gross\t01/04 2021\n",
      "Tate X. Huff\t12/07 2019\n",
      "April G. Pate\t03/05 2019\n",
      "Basia F. Alexander\t07/14 2020\n",
      "MacKensie N. Wilson\t10/11 2020\n",
      "Eleanor Y. Hill\t04/14 2020\n",
      "Pamela D. Kennedy\t02/13 2020\n",
      "Nichole S. Sullivan\t03/10 2020\n",
      "Keefe Y. Hebert\t09/11 2020\n",
      "Kyra N. Lindsey\t08/30 2020\n",
      "Ifeoma W. Cantrell\t05/31 2020\n",
      "Brett W. Ellison\t05/16 2019\n",
      "Phyllis P. Houston\t04/30 2020\n",
      "Sonia L. Wagner\t06/09 2019\n",
      "Amery W. Ballard\t05/10 2020\n",
      "Paul R. Woods\t02/21 2019\n",
      "Myra A. Russo\t04/30 2019\n",
      "Colleen S. Marks\t07/29 2019\n",
      "Scott Y. Salinas\t11/05 2019\n",
      "Alfreda A. Moore\t12/21 2020\n",
      "Charles T. Lindsay\t01/14 2019\n",
      "Bert G. Blair\t06/30 2020\n",
      "Plato O. Burgess\t08/17 2020\n",
      "Jamal L. Leon\t12/08 2020\n",
      "Chava S. Workman\t04/06 2019\n",
      "Jolene K. Faulkner\t01/04 2020\n",
      "Courtney W. Kerr\t12/31 2019\n",
      "Coby V. Christian\t09/11 2020\n",
      "Logan K. Petersen\t06/04 2020\n",
      "Charlotte W. Jennings\t08/22 2020\n",
      "Shana D. Marks\t01/29 2020\n",
      "Cadman T. Mitchell\t10/13 2019\n",
      "Pascale U. Wong\t11/30 2020\n",
      "Martena V. Heath\t06/08 2020\n",
      "Germane A. Parker\t07/29 2019\n",
      "Mannix O. Reyes\t11/12 2019\n",
      "Wynter E. Galloway\t07/09 2020\n",
      "Sybil H. Hines\t02/10 2020\n",
      "Grady G. Shelton\t07/09 2019\n",
      "Ria J. Wilson\t03/23 2020\n",
      "Darrel A. Rojas\t01/23 2019\n",
      "Jermaine B. Sexton\t09/20 2020\n",
      "Erasmus X. Finley\t11/08 2020\n",
      "Allen N. Noel\t02/03 2019\n",
      "Elmo V. Page\t02/03 2019\n",
      "Germane X. Ingram\t10/27 2019\n",
      "Tad P. Reilly\t08/07 2019\n",
      "Lilah Z. Ratliff\t04/08 2020\n",
      "Evan L. Murphy\t10/07 2020\n",
      "Galena Y. Hoover\t01/14 2020\n",
      "\n"
     ]
    }
   ],
   "source": [
    "q3 = re.sub(r\"([0-9]{2})\\.([0-9]{2})\\.([1,2][9,0][0-9]{2}) ([-0-9]*) ([\\w .]*) (.*)\",r'\\5\\t\\2/\\1 \\3',line)\n",
    "print(q3)"
   ]
  },
  {
   "cell_type": "markdown",
   "metadata": {},
   "source": [
    "__Question 4__ Strip everything BUT lat_long AND reorder its entries to be \"long [TAB] lat\".  ([TAB]s will allow you to copy and pass its result into excel.)\n"
   ]
  },
  {
   "cell_type": "code",
   "execution_count": 7,
   "metadata": {},
   "outputs": [
    {
     "name": "stdout",
     "output_type": "stream",
     "text": [
      "\n",
      "157.73725\t-80.7931\n",
      "87.93458\t-54.65661\n",
      "-116.1583\t-56.23283\n",
      "-93.02564\t50.02477\n",
      "91.87029\t34.94064\n",
      "96.36819\t41.01394\n",
      "-148.67016\t75.21109\n",
      "-122.01392\t32.72148\n",
      "-68.27199\t36.06121\n",
      "151.02082\t56.5022\n",
      "46.41947\t89.15273\n",
      "33.01087\t-59.95322\n",
      "143.00006\t68.95134\n",
      "134.95122\t-84.49028\n",
      "63.55341\t39.99846\n",
      "100.66053\t32.49449\n",
      "9.15288\t-50.38051\n",
      "156.80774\t-62.94522\n",
      "24.95209\t28.70745\n",
      "-118.19839\t-64.38445\n",
      "85.92271\t2.41655\n",
      "33.43453\t55.02022\n",
      "0.14016\t-39.34568\n",
      "-131.54363\t58.72796\n",
      "-0.57186\t89.20785\n",
      "62.71378\t14.21796\n",
      "-142.31014\t63.39257\n",
      "-160.4698\t12.23557\n",
      "134.59113\t-35.82526\n",
      "-111.38604\t-21.19925\n",
      "-167.69919\t-30.41505\n",
      "-172.71433\t25.17997\n",
      "166.6208\t-81.05365\n",
      "29.5851\t12.56792\n",
      "-80.47218\t-17.71338\n",
      "30.07917\t6.50359\n",
      "119.03856\t-68.94074\n",
      "88.84348\t-64.69129\n",
      "165.22393\t-69.0148\n",
      "-40.28233\t-66.76159\n",
      "31.62998\t25.43639\n",
      "51.18031\t70.34742\n",
      "-96.72922\t25.1437\n",
      "-53.5339\t37.48213\n",
      "138.33781\t70.36436\n",
      "-54.80389\t-15.88582\n",
      "-102.64553\t-19.95651\n",
      "-120.88989\t-59.46452\n",
      "-38.76282\t28.8487\n",
      "3.49884\t87.66421\n",
      "-70.91566\t-38.86361\n",
      "-88.76742\t39.79327\n",
      "46.38781\t46.38718\n",
      "91.04625\t-29.38123\n",
      "-61.69674\t-5.52387\n",
      "-134.60316\t58.28816\n",
      "104.42787\t-0.38127\n",
      "75.43192\t76.95968\n",
      "4.2894\t-21.15394\n",
      "-136.4242\t75.91447\n",
      "110.36318\t54.42347\n",
      "-40.27266\t24.87553\n",
      "-87.48687\t42.5206\n",
      "30.50554\t43.27127\n",
      "90.36652\t-74.52083\n",
      "51.37251\t-8.18776\n",
      "-154.27882\t-63.17778\n",
      "162.27777\t88.80091\n",
      "-65.46811\t-62.06726\n",
      "130.90851\t48.95176\n",
      "-159.02314\t77.47632\n",
      "71.47637\t30.52258\n",
      "-70.20963\t83.37789\n",
      "-106.54687\t-83.89639\n",
      "-43.1461\t1.80377\n",
      "-41.70744\t84.59178\n",
      "-130.57738\t-37.4529\n",
      "-7.64751\t9.50853\n",
      "119.39998\t-55.38965\n",
      "-7.53647\t35.12842\n",
      "-65.65454\t-77.38444\n",
      "-115.90137\t23.20457\n",
      "-78.71122\t-69.78969\n",
      "127.54506\t18.59665\n",
      "105.65803\t-54.89724\n",
      "-87.40092\t79.972\n",
      "137.60057\t35.27071\n",
      "42.72178\t80.86498\n",
      "-133.51202\t38.67297\n",
      "70.46767\t74.93692\n",
      "-149.73866\t-64.57208\n",
      "-79.33305\t11.947\n",
      "30.81345\t67.8675\n",
      "-118.05116\t33.7464\n",
      "-69.68619\t32.3939\n",
      "1.14447\t34.24397\n",
      "91.01438\t0.33915\n",
      "-62.80281\t-56.36237\n",
      "37.86276\t-30.59229\n",
      "-88.61456\t-8.52879\n",
      "\n"
     ]
    }
   ],
   "source": [
    "q4 = re.sub(r'(.*?)([-.0-9]*), ([-.0-9]*)(.*)', r'\\3\\t\\2', line)\n",
    "print(q4)"
   ]
  },
  {
   "cell_type": "markdown",
   "metadata": {},
   "source": [
    "### Web Scraping\n",
    "\n",
    "For this part of the assignment, for each line of code in your submission, you are required to add a comment line prior to it that explains what that line of code is doing. Please follow these instructions:\n",
    "\n",
    "- Go to https://www.usnews.com/\n",
    "\n",
    "- Find its current \"Top Stories\" (do not hard-code its URL)\n",
    "\n",
    "- Read + print the URL of the _second_ current top story to the screen\n",
    "\n",
    "- Navigate to it (a.k.a the _second_ current top story)\n",
    "\n",
    "- Read + print the header as well as the first 3 sentences of the main body to the screen"
   ]
  },
  {
   "cell_type": "markdown",
   "metadata": {},
   "source": [
    "__Define the URL__"
   ]
  },
  {
   "cell_type": "code",
   "execution_count": 8,
   "metadata": {},
   "outputs": [],
   "source": [
    "url = 'https://www.usnews.com/'"
   ]
  },
  {
   "cell_type": "markdown",
   "metadata": {},
   "source": [
    "__Define header__"
   ]
  },
  {
   "cell_type": "code",
   "execution_count": 9,
   "metadata": {},
   "outputs": [],
   "source": [
    "headers = {'User-Agent': 'Mozilla/5.0'}"
   ]
  },
  {
   "cell_type": "markdown",
   "metadata": {},
   "source": [
    "__Get content from URL__"
   ]
  },
  {
   "cell_type": "code",
   "execution_count": 10,
   "metadata": {
    "scrolled": false
   },
   "outputs": [],
   "source": [
    "page = requests.get(url, headers = headers)"
   ]
  },
  {
   "cell_type": "markdown",
   "metadata": {},
   "source": [
    "__Obtain a clean version of content by using BeautifulSoup__"
   ]
  },
  {
   "cell_type": "code",
   "execution_count": 11,
   "metadata": {},
   "outputs": [],
   "source": [
    "soup = BeautifulSoup(page.text, 'html.parser')"
   ]
  },
  {
   "cell_type": "markdown",
   "metadata": {},
   "source": [
    "__Scrape the Top Stories Section__"
   ]
  },
  {
   "cell_type": "code",
   "execution_count": 12,
   "metadata": {},
   "outputs": [],
   "source": [
    "top_stories = str(soup.find(class_ = 's85n6m5-0-Box-cwadsP kdRAHx'))"
   ]
  },
  {
   "cell_type": "markdown",
   "metadata": {},
   "source": [
    "__Put all stories into a list, where index shows its recency__"
   ]
  },
  {
   "cell_type": "code",
   "execution_count": 13,
   "metadata": {},
   "outputs": [],
   "source": [
    "story_list = re.split(r'<div class=\"ArmRestTopStories__CollapseBorderContentBox-s1vkad-0 kkieLV s85n6m5-0-Box-cwadsP fHRMIQ\" spacing=\"3\">', top_stories)"
   ]
  },
  {
   "cell_type": "markdown",
   "metadata": {},
   "source": [
    "__Find the first and second story__"
   ]
  },
  {
   "cell_type": "code",
   "execution_count": 14,
   "metadata": {},
   "outputs": [],
   "source": [
    "first = story_list[1]\n",
    "second = story_list[2]"
   ]
  },
  {
   "cell_type": "markdown",
   "metadata": {},
   "source": [
    "__Return the header of the first story by matching a pattern of `<a></a>`__"
   ]
  },
  {
   "cell_type": "code",
   "execution_count": 15,
   "metadata": {},
   "outputs": [
    {
     "data": {
      "text/plain": [
       "'Trudeau: Jet Shot Down by Iranian Missile'"
      ]
     },
     "execution_count": 15,
     "metadata": {},
     "output_type": "execute_result"
    }
   ],
   "source": [
    "story1_head = re.findall(r'<a href.*?</a>', first)[0].split('>')[1][:-3].strip()\n",
    "story1_head"
   ]
  },
  {
   "cell_type": "markdown",
   "metadata": {},
   "source": [
    "__Get the url of the second story__"
   ]
  },
  {
   "cell_type": "code",
   "execution_count": 16,
   "metadata": {},
   "outputs": [
    {
     "data": {
      "text/plain": [
       "'https://www.usnews.com/news/healthiest-communities/articles/2020-01-09/study-finds-racial-disparities-with-breast-cancer-diagnosis'"
      ]
     },
     "execution_count": 16,
     "metadata": {},
     "output_type": "execute_result"
    }
   ],
   "source": [
    "new_url = re.findall(r'<a href.*?</a>', second)[0].split('\"')[1]\n",
    "new_url"
   ]
  },
  {
   "cell_type": "markdown",
   "metadata": {},
   "source": [
    "__Get the content of new url and put in BeautifulSoup Format__"
   ]
  },
  {
   "cell_type": "code",
   "execution_count": 17,
   "metadata": {},
   "outputs": [],
   "source": [
    "new_page = requests.get(new_url, headers = headers)\n",
    "new_soup = BeautifulSoup(new_page.text, 'html.parser')"
   ]
  },
  {
   "cell_type": "markdown",
   "metadata": {},
   "source": [
    "__Find the header of the story__"
   ]
  },
  {
   "cell_type": "code",
   "execution_count": 18,
   "metadata": {},
   "outputs": [
    {
     "data": {
      "text/plain": [
       "'Study Finds Racial Disparities With Breast Cancer Diagnosis'"
      ]
     },
     "execution_count": 18,
     "metadata": {},
     "output_type": "execute_result"
    }
   ],
   "source": [
    "header = str(new_soup.find(class_ = 'sc-bdVaJa kwJVtY')).split('>')[1][:-4]\n",
    "header"
   ]
  },
  {
   "cell_type": "markdown",
   "metadata": {},
   "source": [
    "__Get all paragraphs of the story__"
   ]
  },
  {
   "cell_type": "code",
   "execution_count": 27,
   "metadata": {},
   "outputs": [],
   "source": [
    "prg_list = re.findall(r'<p>.*?</p>', str(new_soup))\n",
    "# Combine all paragraphs together into one string\n",
    "prg = ''\n",
    "for p in prg_list:\n",
    "    # Find the paragrphs by splitting the content with '<>'\n",
    "    for i in re.split(r'<.*?>', p):\n",
    "        if i != '':\n",
    "            # Combine all paragraphs together\n",
    "            prg += i + ' '"
   ]
  },
  {
   "cell_type": "markdown",
   "metadata": {},
   "source": [
    "__Extract the first three sentences__\n",
    "Find the first three sentences by tokenizing sentences"
   ]
  },
  {
   "cell_type": "code",
   "execution_count": 28,
   "metadata": {},
   "outputs": [
    {
     "name": "stdout",
     "output_type": "stream",
     "text": [
      "Racial and ethnic  minority women are more likely than white women to be diagnosed with breast cancer at a later stage, according to a study released Thursday. The  JAMA Oncology  study, which included more than 177,000 women in its sample, found that higher percentages of black, American Indian or Alaskan Native and Hispanic women were diagnosed with stage 3 breast cancer than white and Asian or Pacific Islander women. All four racial and ethnic minorities studied were diagnosed with stage 2 breast cancer at higher levels than white women as well.\n"
     ]
    }
   ],
   "source": [
    "stc_3 = ' '.join(sent_tokenize(prg)[:3])\n",
    "print (stc_3)"
   ]
  },
  {
   "cell_type": "code",
   "execution_count": null,
   "metadata": {},
   "outputs": [],
   "source": []
  }
 ],
 "metadata": {
  "kernelspec": {
   "display_name": "Python 3",
   "language": "python",
   "name": "python3"
  },
  "language_info": {
   "codemirror_mode": {
    "name": "ipython",
    "version": 3
   },
   "file_extension": ".py",
   "mimetype": "text/x-python",
   "name": "python",
   "nbconvert_exporter": "python",
   "pygments_lexer": "ipython3",
   "version": "3.7.3"
  },
  "toc": {
   "base_numbering": 1,
   "nav_menu": {},
   "number_sections": true,
   "sideBar": true,
   "skip_h1_title": false,
   "title_cell": "Table of Contents",
   "title_sidebar": "Contents",
   "toc_cell": false,
   "toc_position": {},
   "toc_section_display": true,
   "toc_window_display": false
  },
  "varInspector": {
   "cols": {
    "lenName": 16,
    "lenType": 16,
    "lenVar": 40
   },
   "kernels_config": {
    "python": {
     "delete_cmd_postfix": "",
     "delete_cmd_prefix": "del ",
     "library": "var_list.py",
     "varRefreshCmd": "print(var_dic_list())"
    },
    "r": {
     "delete_cmd_postfix": ") ",
     "delete_cmd_prefix": "rm(",
     "library": "var_list.r",
     "varRefreshCmd": "cat(var_dic_list()) "
    }
   },
   "oldHeight": 122,
   "position": {
    "height": "40px",
    "left": "1069px",
    "right": "20px",
    "top": "120px",
    "width": "350px"
   },
   "types_to_exclude": [
    "module",
    "function",
    "builtin_function_or_method",
    "instance",
    "_Feature"
   ],
   "varInspector_section_display": "none",
   "window_display": true
  }
 },
 "nbformat": 4,
 "nbformat_minor": 2
}
